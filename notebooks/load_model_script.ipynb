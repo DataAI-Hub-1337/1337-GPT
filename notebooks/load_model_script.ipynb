{
 "cells": [
  {
   "cell_type": "code",
   "execution_count": null,
   "id": "280f7901-3d29-4347-bc34-9846a620d4ea",
   "metadata": {
    "tags": []
   },
   "outputs": [],
   "source": [
    "!python -m pip uninstall torch --yes"
   ]
  },
  {
   "cell_type": "code",
   "execution_count": null,
   "id": "d9adb743-a71c-4e2e-ac42-6afe257c9240",
   "metadata": {
    "collapsed": true,
    "jupyter": {
     "outputs_hidden": true
    },
    "tags": []
   },
   "outputs": [],
   "source": [
    "!pip install torch transformers\n",
    "!pip install transformers accelerate datasets -U"
   ]
  },
  {
   "cell_type": "code",
   "execution_count": 5,
   "id": "a1016105-28f6-4c60-9597-dd5d8f162c6b",
   "metadata": {
    "tags": []
   },
   "outputs": [],
   "source": [
    "from transformers import AutoModelForCausalLM, AutoTokenizer, Trainer, TrainingArguments, DataCollatorForLanguageModeling, pipeline\n",
    "from datasets import load_dataset\n",
    "from huggingface_hub import login\n",
    "from huggingface_hub import Repository\n",
    "import torch\n"
   ]
  },
  {
   "cell_type": "code",
   "execution_count": null,
   "id": "4fae0c81-0cf8-4a8f-aa75-24f2cf775ecd",
   "metadata": {
    "collapsed": true,
    "jupyter": {
     "outputs_hidden": true
    },
    "tags": []
   },
   "outputs": [],
   "source": [
    "model_dir = \"./fine-tuned-model\"\n",
    "\n",
    "model = AutoModelForCausalLM.from_pretrained(model_dir)\n",
    "\n",
    "tokenizer = AutoTokenizer.from_pretrained(model_dir)\n",
    "\n",
    "text_generator = pipeline(\"text-generation\", model=model, tokenizer=tokenizer)\n"
   ]
  },
  {
   "cell_type": "code",
   "execution_count": null,
   "id": "79f4f84f-6041-4b41-b10f-70bf306ec62f",
   "metadata": {
    "tags": []
   },
   "outputs": [],
   "source": [
    "prompt = (\n",
    "    \"You are an AI bot designed to answer questions accurately and concisely. \"\n",
    "    \"A user asks: 'What is 1337 school' \"\n",
    "    \"Provide a clear and detailed response.\"\n",
    ")\n",
    "\n",
    "generated_text = text_generator(prompt, max_length=100, num_return_sequences=1)\n",
    "\n",
    "print(generated_text[0]['generated_text'])"
   ]
  }
 ],
 "metadata": {
  "kernelspec": {
   "display_name": "Python 3 (ipykernel)",
   "language": "python",
   "name": "python3"
  },
  "language_info": {
   "codemirror_mode": {
    "name": "ipython",
    "version": 3
   },
   "file_extension": ".py",
   "mimetype": "text/x-python",
   "name": "python",
   "nbconvert_exporter": "python",
   "pygments_lexer": "ipython3",
   "version": "3.9.5"
  }
 },
 "nbformat": 4,
 "nbformat_minor": 5
}
